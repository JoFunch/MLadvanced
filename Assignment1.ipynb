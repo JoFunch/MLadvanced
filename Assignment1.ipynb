{
 "cells": [
  {
   "cell_type": "code",
   "execution_count": 1,
   "id": "e3c34883",
   "metadata": {},
   "outputs": [],
   "source": [
    "import json\n",
    "import pandas as pd\n",
    "from sklearn import preprocessing\n",
    "import numpy as np\n",
    "import cv2\n",
    "from torchvision.io import read_image\n",
    "from PIL import Image\n",
    "import matplotlib.pyplot as plt\n",
    "import torch\n",
    "import torch.nn as nn\n",
    "import torch.nn.functional as F\n",
    "from torch.utils.data import DataLoader, TensorDataset\n",
    "import torch.optim as optim\n",
    "import matplotlib.path as mplpath\n",
    "import torch.utils.data as data_utils\n",
    "import matplotlib.patches as patches\n",
    "from pathlib import Path"
   ]
  },
  {
   "cell_type": "code",
   "execution_count": 2,
   "id": "2a04d0ea",
   "metadata": {},
   "outputs": [],
   "source": [
    "device = torch.device(\"cuda:1\" if torch.cuda.is_available() else \"cpu\")"
   ]
  },
  {
   "cell_type": "markdown",
   "id": "e3377a27",
   "metadata": {},
   "source": [
    "## DATA PREP 1"
   ]
  },
  {
   "cell_type": "code",
   "execution_count": 3,
   "id": "c7a29c1c",
   "metadata": {},
   "outputs": [],
   "source": [
    "def data(file_dir_path):\n",
    "    \n",
    "    with open(file_dir_path) as j_file:\n",
    "        list_of_marks = [] \n",
    "        json_list = list(j_file)\n",
    "        p = 0 \n",
    "        final = {}\n",
    "        for json_str in json_list:\n",
    "            if p > 50: #for relavative batch, for testing\n",
    "                return final #, list_of_marks\n",
    "            img = json.loads(json_str)\n",
    "            img_id = img['image_id']+'.jpg'\n",
    "            l_poly = []\n",
    "            \n",
    "            for key, value in img.items():\n",
    "                for v in img['annotations']: #all annotations per image\n",
    "\n",
    "                    for dic in v:\n",
    "                        if dic['is_chinese']:\n",
    "                           # print(dic['is_chinese'])\n",
    "                            coords = dic['polygon']\n",
    "                            l_poly.append(coords)\n",
    "                        \n",
    " #                           text = dic['text'] #for specific rather than 1/0 inside BB\n",
    "#                            list_of_marks.append(text) #for specific mark \n",
    "\n",
    "                              \n",
    "            p += 1\n",
    "            final[img_id] = l_poly\n",
    "                    \n",
    "    return final "
   ]
  },
  {
   "cell_type": "code",
   "execution_count": 4,
   "id": "b0127166",
   "metadata": {
    "scrolled": false
   },
   "outputs": [],
   "source": [
    "poly_box = data('a1/train.jsonl')"
   ]
  },
  {
   "cell_type": "code",
   "execution_count": 5,
   "id": "2a37ef5b",
   "metadata": {},
   "outputs": [],
   "source": [
    "def make_box(poly_boxes):\n",
    "    tp = []\n",
    "    for img_id,boxes in poly_boxes.items():\n",
    "        print('New Image for processing ... ')\n",
    "        img = cv2.imread('a1/images/'+img_id)\n",
    "        img = np.resize(img, (3 , 2048, 2048)) #2\n",
    "#        img = np.resize(img, (2048*2048,2))\n",
    "        grid = np.array([[[a,b] for b in list(range(2048))] for a in list(range(2048))])\n",
    "        grid = grid.reshape(2048*2048,2) \n",
    "        collected_poly = np.zeros(grid.shape[0])\n",
    "        for box in boxes:\n",
    "            pnts= np.array(box)\n",
    "            path = mplpath.Path(pnts)\n",
    "            new_new = path.contains_points(grid)\n",
    "            new_new = np.array(new_new, int)\n",
    "            collected_poly = np.maximum(collected_poly, new_new)\n",
    "        img = img/255\n",
    "        tp.append([img, collected_poly])\n",
    "    \n",
    "        \n",
    "\n",
    "    return tp\n",
    "\n"
   ]
  },
  {
   "cell_type": "code",
   "execution_count": null,
   "id": "84b829bc",
   "metadata": {},
   "outputs": [],
   "source": []
  },
  {
   "cell_type": "code",
   "execution_count": 6,
   "id": "086e6d1b",
   "metadata": {
    "scrolled": true
   },
   "outputs": [
    {
     "name": "stdout",
     "output_type": "stream",
     "text": [
      "New Image for processing ... \n",
      "New Image for processing ... \n",
      "New Image for processing ... \n",
      "New Image for processing ... \n",
      "New Image for processing ... \n",
      "New Image for processing ... \n",
      "New Image for processing ... \n",
      "New Image for processing ... \n",
      "New Image for processing ... \n",
      "New Image for processing ... \n",
      "New Image for processing ... \n",
      "New Image for processing ... \n",
      "New Image for processing ... \n",
      "New Image for processing ... \n",
      "New Image for processing ... \n",
      "New Image for processing ... \n",
      "New Image for processing ... \n",
      "New Image for processing ... \n",
      "New Image for processing ... \n",
      "New Image for processing ... \n",
      "New Image for processing ... \n",
      "New Image for processing ... \n",
      "New Image for processing ... \n",
      "New Image for processing ... \n",
      "New Image for processing ... \n",
      "New Image for processing ... \n",
      "New Image for processing ... \n",
      "New Image for processing ... \n",
      "New Image for processing ... \n",
      "New Image for processing ... \n",
      "New Image for processing ... \n",
      "New Image for processing ... \n",
      "New Image for processing ... \n",
      "New Image for processing ... \n",
      "New Image for processing ... \n",
      "New Image for processing ... \n",
      "New Image for processing ... \n",
      "New Image for processing ... \n",
      "New Image for processing ... \n",
      "New Image for processing ... \n",
      "New Image for processing ... \n",
      "New Image for processing ... \n",
      "New Image for processing ... \n",
      "New Image for processing ... \n",
      "New Image for processing ... \n",
      "New Image for processing ... \n",
      "New Image for processing ... \n",
      "New Image for processing ... \n",
      "New Image for processing ... \n",
      "New Image for processing ... \n",
      "New Image for processing ... \n"
     ]
    }
   ],
   "source": [
    "mkb = make_box(poly_box)"
   ]
  },
  {
   "cell_type": "code",
   "execution_count": 7,
   "id": "8412b540",
   "metadata": {},
   "outputs": [],
   "source": [
    "dataset = mkb"
   ]
  },
  {
   "cell_type": "code",
   "execution_count": 8,
   "id": "2e5d79b2",
   "metadata": {},
   "outputs": [],
   "source": [
    "#Make Train, test, val\n",
    "test_size = int(len(dataset)*0.2)\n",
    "\n",
    "val_size = int(len(dataset)*0.1)\n",
    "train_size = len(dataset) - (test_size+val_size)\n",
    "\n",
    "train_d = dataset[:train_size] # 07\n",
    "val_d = dataset[train_size:-test_size] #01\n",
    "test_d = dataset[(train_size+val_size):] # 02 \n",
    "\n",
    "#Train\n",
    "trainloader = torch.utils.data.DataLoader(train_d, batch_size=5,\n",
    "                                          shuffle=True, num_workers=2)\n",
    "\n",
    "#Test\n",
    "testloader = torch.utils.data.DataLoader(test_d, batch_size=5,\n",
    "                                          shuffle=False, num_workers=2)\n",
    "\n"
   ]
  },
  {
   "cell_type": "code",
   "execution_count": null,
   "id": "0570c607",
   "metadata": {},
   "outputs": [],
   "source": []
  },
  {
   "cell_type": "markdown",
   "id": "fcb76fba",
   "metadata": {},
   "source": [
    "## MODEL 1"
   ]
  },
  {
   "cell_type": "code",
   "execution_count": 9,
   "id": "f7f00dca",
   "metadata": {},
   "outputs": [],
   "source": [
    "class ChineseChar(nn.Module):\n",
    "\n",
    "    def __init__(self):\n",
    "        super(ChineseChar, self).__init__()\n",
    "        self.conv1 = nn.Conv2d(3, 3, 5) \n",
    "        self.conv2 = nn.Conv2d(3, 16, 5)\n",
    "        \n",
    "        self.fc1 = nn.Linear(4145296, 253)  # for 1 dim: 16*253*253, 120\n",
    "        self.fc2 = nn.Linear(253, 120) #120, 84\n",
    "        self.fc3 = nn.Linear(120, 64) #84,16*256*256 eller 84,2  # 60 #4194304\n",
    "\n",
    "    def forward(self, x):\n",
    "        x = F.max_pool2d(F.relu(self.conv1(x)), (2, 2))\n",
    "        x = F.max_pool2d(F.relu(self.conv2(x)), 2)\n",
    "        x = torch.flatten(x, 1) # flatten all dimensions except the batch dimension\n",
    "        x = F.relu(self.fc1(x))\n",
    "        x = F.relu(self.fc2(x))\n",
    "        x = self.fc3(x)\n",
    "        x = torch.sigmoid(x)\n",
    "        return x"
   ]
  },
  {
   "cell_type": "code",
   "execution_count": 10,
   "id": "d8be2342",
   "metadata": {},
   "outputs": [],
   "source": [
    "Char = ChineseChar()"
   ]
  },
  {
   "cell_type": "code",
   "execution_count": null,
   "id": "83666417",
   "metadata": {},
   "outputs": [],
   "source": []
  },
  {
   "cell_type": "code",
   "execution_count": 11,
   "id": "ecc46cce",
   "metadata": {},
   "outputs": [],
   "source": [
    "\n",
    "criterion = nn.BCELoss()\n",
    "optimizer = optim.SGD(Char.parameters(), lr=0.005, momentum=0.9)"
   ]
  },
  {
   "cell_type": "markdown",
   "id": "c7d5bb1e",
   "metadata": {},
   "source": [
    "## Test "
   ]
  },
  {
   "cell_type": "code",
   "execution_count": 12,
   "id": "121c8800",
   "metadata": {
    "scrolled": true
   },
   "outputs": [
    {
     "name": "stderr",
     "output_type": "stream",
     "text": [
      "/usr/local/lib64/python3.9/site-packages/torch/nn/functional.py:718: UserWarning: Named tensors and all their associated APIs are an experimental feature and subject to change. Please do not use them for anything important until they are released as stable. (Triggered internally at  /pytorch/c10/core/TensorImpl.h:1156.)\n",
      "  return torch.max_pool2d(input, kernel_size, stride, padding, dilation, ceil_mode)\n"
     ]
    },
    {
     "name": "stdout",
     "output_type": "stream",
     "text": [
      "Epoch [1/10], Loss: 0.5863032937049866\n",
      "Epoch [2/10], Loss: 0.21119970083236694\n",
      "Epoch [3/10], Loss: 0.048833709210157394\n",
      "Epoch [4/10], Loss: 0.02527598664164543\n",
      "Epoch [5/10], Loss: 0.04726000502705574\n",
      "Epoch [6/10], Loss: 0.030520491302013397\n",
      "Epoch [7/10], Loss: 0.019646162167191505\n",
      "Epoch [8/10], Loss: 0.02794039621949196\n",
      "Epoch [9/10], Loss: 0.009800591506063938\n",
      "Epoch [10/10], Loss: 0.024047497659921646\n",
      "Finished Training\n"
     ]
    }
   ],
   "source": [
    "num_epoch = 10\n",
    "for epoch in range(10):\n",
    "\n",
    "    running_loss = 0.0\n",
    "    for i, data in enumerate(trainloader):\n",
    "        # get the inputs; data is a list of [inputs, labels]\n",
    "        inputs, labels = data \n",
    "        inputs = inputs.to(torch.float)\n",
    "        labels = labels.to(torch.float)\n",
    "        \n",
    "\n",
    "\n",
    "\n",
    "        labels = torch.flatten(labels, 1)\n",
    "        # zero the parameter gradients\n",
    "        optimizer.zero_grad()\n",
    "        \n",
    "        # forward + backward + optimize\n",
    "        outputs = Char(inputs)\n",
    "\n",
    "        #print(labels.shape)\n",
    "        upsampling_alg = nn.Upsample(size=2048*2048)\n",
    "        outputs = upsampling_alg(outputs.unsqueeze(1))\n",
    "        enhanced_img = upsampling_alg(outputs.reshape(len(inputs), 1, 2048*2048))\n",
    "        \n",
    "        enhanced_img = enhanced_img.squeeze(1)\n",
    "        \n",
    "        \n",
    "        #outputs = predicted.squeeze(-1) #if output in BCE set to < len-size of flatten array      \n",
    "        \n",
    "\n",
    "        #labels = torch.max(labels, 1)[1].long() # if more than 2 outputs in model, enable here #0 for 0's prints none\n",
    "#        loss = criterion(outputs, labels)\n",
    "        loss = criterion(enhanced_img, labels)\n",
    "        \n",
    "        loss.backward()\n",
    "        optimizer.step()\n",
    "\n",
    "        # print statistics\n",
    "        running_loss += loss.item()\n",
    "    print('Epoch [{}/{}], Loss: {}'.format(epoch+1, num_epoch, loss.item()))\n",
    "print('Finished Training')"
   ]
  },
  {
   "cell_type": "code",
   "execution_count": 13,
   "id": "d382fa73",
   "metadata": {},
   "outputs": [],
   "source": [
    "#Save model\n",
    "#PATH = 'ModelType1'\n",
    "#torch.save(Char.state_dict(), PATH)\n",
    "\n",
    "\n"
   ]
  },
  {
   "cell_type": "code",
   "execution_count": 14,
   "id": "91b28ea9",
   "metadata": {},
   "outputs": [],
   "source": [
    "#load\n",
    "#PATH = 'ModelType1'\n",
    "#Char = ChineseChar()\n",
    "#Char.load_state_dict(torch.load(PATH))\n"
   ]
  },
  {
   "cell_type": "code",
   "execution_count": 15,
   "id": "c1baeb5d",
   "metadata": {
    "scrolled": true
   },
   "outputs": [
    {
     "name": "stdout",
     "output_type": "stream",
     "text": [
      "Accuracy: 0.33\n",
      "Loss:  0.05392131209373474\n"
     ]
    }
   ],
   "source": [
    "np.set_printoptions(threshold=np. inf)\n",
    "\n",
    "correct = 0\n",
    "total = 0\n",
    "Char.eval()\n",
    "running_loss = 0\n",
    "\n",
    "with torch.no_grad():\n",
    "    for i, data in enumerate(testloader):\n",
    "        \n",
    "        imgs, labels = data\n",
    "                \n",
    "        imgs = imgs.to(torch.float)\n",
    "        labels = labels.to(torch.float)\n",
    "        labels = torch.flatten(labels, 1)\n",
    "        \n",
    "        outputs = Char(imgs)\n",
    "        upsampling_alg = nn.Upsample(size=2048*2048)\n",
    "        enhanced = upsampling_alg(outputs.unsqueeze(1))\n",
    "\n",
    "        loss = criterion(enhanced.squeeze(), labels)\n",
    "        running_loss = loss.item()\n",
    "        total += labels.shape[0]\n",
    "        \n",
    "        correct += torch.sum(torch.eq(torch.argmax(enhanced, dim=1), labels))\n",
    "        accuracy = int(correct) / ((i+1) * 5 * 3*2048*2048)\n",
    "\n",
    "print('Accuracy:', round(accuracy,2))\n",
    "print('Loss: ', running_loss)\n",
    "        "
   ]
  },
  {
   "cell_type": "code",
   "execution_count": null,
   "id": "9f2bd956",
   "metadata": {},
   "outputs": [],
   "source": []
  },
  {
   "cell_type": "markdown",
   "id": "6a19f8cb",
   "metadata": {},
   "source": [
    "## Predictions"
   ]
  },
  {
   "cell_type": "code",
   "execution_count": 16,
   "id": "564f0596",
   "metadata": {},
   "outputs": [
    {
     "data": {
      "text/plain": [
       "<matplotlib.image.AxesImage at 0x7f7ffc74ab20>"
      ]
     },
     "execution_count": 16,
     "metadata": {},
     "output_type": "execute_result"
    },
    {
     "data": {
      "image/png": "[encoded data removed]",
      "text/plain": [
       "<Figure size 432x288 with 1 Axes>"
      ]
     },
     "metadata": {
      "needs_background": "light"
     },
     "output_type": "display_data"
    }
   ],
   "source": [
    "import random\n",
    "r_img = random.choice(val_d)\n",
    "p_img = torch.tensor(r_img[0]).permute(2,1,0) #0 for img, 1 for label\n",
    "random_img = p_img.unsqueeze(0).permute(0,3,2,1).float() #to fake a batch-size for the model\n",
    "\n",
    "with torch.no_grad():\n",
    "    single_out = Char(random_img)\n",
    "\n",
    "upsampling_alg = nn.Upsample(size=2048*2048) #original image size\n",
    "enhanced_image = upsampling_alg(single_out.reshape(1,1,64)) #1 batch, 1 channel, img*img long\n",
    "enhanced_img = enhanced_image.reshape(2048,2048) #Collect into colour-arrays\n",
    "enhanced_img = enhanced_img.squeeze() #squeeze batch\n",
    "plt.imshow(p_img)\n",
    "plt.imshow(enhanced_img)\n"
   ]
  },
  {
   "cell_type": "code",
   "execution_count": null,
   "id": "bba78796",
   "metadata": {},
   "outputs": [],
   "source": []
  },
  {
   "cell_type": "code",
   "execution_count": null,
   "id": "0eb5b832",
   "metadata": {},
   "outputs": [],
   "source": []
  }
 ],
 "metadata": {
  "kernelspec": {
   "display_name": "Python 3 (ipykernel)",
   "language": "python",
   "name": "python3"
  },
  "language_info": {
   "codemirror_mode": {
    "name": "ipython",
    "version": 3
   },
   "file_extension": ".py",
   "mimetype": "text/x-python",
   "name": "python",
   "nbconvert_exporter": "python",
   "pygments_lexer": "ipython3",
   "version": "3.9.6"
  }
 },
 "nbformat": 4,
 "nbformat_minor": 5
}
